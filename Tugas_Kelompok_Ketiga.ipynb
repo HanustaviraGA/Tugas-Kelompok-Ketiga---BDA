{
  "nbformat": 4,
  "nbformat_minor": 0,
  "metadata": {
    "colab": {
      "provenance": []
    },
    "kernelspec": {
      "name": "python3",
      "display_name": "Python 3"
    },
    "language_info": {
      "name": "python"
    }
  },
  "cells": [
    {
      "cell_type": "markdown",
      "source": [
        "Mengimport library yang dibutuhkan dan menautkan Google Drive"
      ],
      "metadata": {
        "id": "aO_Z5YrOoiLg"
      }
    },
    {
      "cell_type": "code",
      "execution_count": 1,
      "metadata": {
        "colab": {
          "base_uri": "https://localhost:8080/"
        },
        "id": "MTeNXFE2oa5d",
        "outputId": "0ce2f1b1-6ef8-4a7a-d83c-bed1adffc12e"
      },
      "outputs": [
        {
          "output_type": "stream",
          "name": "stdout",
          "text": [
            "Mounted at /content/drive\n"
          ]
        }
      ],
      "source": [
        "import numpy as np\n",
        "import pandas as pd\n",
        "from mlxtend.frequent_patterns import apriori, association_rules\n",
        "from google.colab import drive\n",
        "drive.mount('/content/drive')"
      ]
    },
    {
      "cell_type": "markdown",
      "source": [
        "Membuka dan memproses dataset"
      ],
      "metadata": {
        "id": "OApCR1JHo1NG"
      }
    },
    {
      "cell_type": "code",
      "source": [
        "data = pd.read_excel('/content/drive/My Drive/DatasetBDA/SampleSuperstores.xlsx')\n",
        "data.head()"
      ],
      "metadata": {
        "colab": {
          "base_uri": "https://localhost:8080/",
          "height": 206
        },
        "id": "F0nMkFFlo13m",
        "outputId": "11fe70af-565c-4fb3-8503-cdb27576d4fc"
      },
      "execution_count": 2,
      "outputs": [
        {
          "output_type": "execute_result",
          "data": {
            "text/plain": [
              "   Postal Code             City Region         Category Sub-Category  \\\n",
              "0        42420        Henderson  South        Furniture    Bookcases   \n",
              "1        42420        Henderson  South        Furniture       Chairs   \n",
              "2        90036      Los Angeles   West  Office Supplies       Labels   \n",
              "3        33311  Fort Lauderdale  South        Furniture       Tables   \n",
              "4        33311  Fort Lauderdale  South  Office Supplies      Storage   \n",
              "\n",
              "      Sales  Quantity  Discount   Profit  \n",
              "0    261.96         2         0   419136  \n",
              "1    731.94         3         0   219582  \n",
              "2  0.626389         2         0    68714  \n",
              "3   9575775         5  00:45:00  -383031  \n",
              "4     22368         2  00:02:00    25164  "
            ],
            "text/html": [
              "\n",
              "  <div id=\"df-20a3423b-f3fc-4525-afac-155f780e8897\">\n",
              "    <div class=\"colab-df-container\">\n",
              "      <div>\n",
              "<style scoped>\n",
              "    .dataframe tbody tr th:only-of-type {\n",
              "        vertical-align: middle;\n",
              "    }\n",
              "\n",
              "    .dataframe tbody tr th {\n",
              "        vertical-align: top;\n",
              "    }\n",
              "\n",
              "    .dataframe thead th {\n",
              "        text-align: right;\n",
              "    }\n",
              "</style>\n",
              "<table border=\"1\" class=\"dataframe\">\n",
              "  <thead>\n",
              "    <tr style=\"text-align: right;\">\n",
              "      <th></th>\n",
              "      <th>Postal Code</th>\n",
              "      <th>City</th>\n",
              "      <th>Region</th>\n",
              "      <th>Category</th>\n",
              "      <th>Sub-Category</th>\n",
              "      <th>Sales</th>\n",
              "      <th>Quantity</th>\n",
              "      <th>Discount</th>\n",
              "      <th>Profit</th>\n",
              "    </tr>\n",
              "  </thead>\n",
              "  <tbody>\n",
              "    <tr>\n",
              "      <th>0</th>\n",
              "      <td>42420</td>\n",
              "      <td>Henderson</td>\n",
              "      <td>South</td>\n",
              "      <td>Furniture</td>\n",
              "      <td>Bookcases</td>\n",
              "      <td>261.96</td>\n",
              "      <td>2</td>\n",
              "      <td>0</td>\n",
              "      <td>419136</td>\n",
              "    </tr>\n",
              "    <tr>\n",
              "      <th>1</th>\n",
              "      <td>42420</td>\n",
              "      <td>Henderson</td>\n",
              "      <td>South</td>\n",
              "      <td>Furniture</td>\n",
              "      <td>Chairs</td>\n",
              "      <td>731.94</td>\n",
              "      <td>3</td>\n",
              "      <td>0</td>\n",
              "      <td>219582</td>\n",
              "    </tr>\n",
              "    <tr>\n",
              "      <th>2</th>\n",
              "      <td>90036</td>\n",
              "      <td>Los Angeles</td>\n",
              "      <td>West</td>\n",
              "      <td>Office Supplies</td>\n",
              "      <td>Labels</td>\n",
              "      <td>0.626389</td>\n",
              "      <td>2</td>\n",
              "      <td>0</td>\n",
              "      <td>68714</td>\n",
              "    </tr>\n",
              "    <tr>\n",
              "      <th>3</th>\n",
              "      <td>33311</td>\n",
              "      <td>Fort Lauderdale</td>\n",
              "      <td>South</td>\n",
              "      <td>Furniture</td>\n",
              "      <td>Tables</td>\n",
              "      <td>9575775</td>\n",
              "      <td>5</td>\n",
              "      <td>00:45:00</td>\n",
              "      <td>-383031</td>\n",
              "    </tr>\n",
              "    <tr>\n",
              "      <th>4</th>\n",
              "      <td>33311</td>\n",
              "      <td>Fort Lauderdale</td>\n",
              "      <td>South</td>\n",
              "      <td>Office Supplies</td>\n",
              "      <td>Storage</td>\n",
              "      <td>22368</td>\n",
              "      <td>2</td>\n",
              "      <td>00:02:00</td>\n",
              "      <td>25164</td>\n",
              "    </tr>\n",
              "  </tbody>\n",
              "</table>\n",
              "</div>\n",
              "      <button class=\"colab-df-convert\" onclick=\"convertToInteractive('df-20a3423b-f3fc-4525-afac-155f780e8897')\"\n",
              "              title=\"Convert this dataframe to an interactive table.\"\n",
              "              style=\"display:none;\">\n",
              "        \n",
              "  <svg xmlns=\"http://www.w3.org/2000/svg\" height=\"24px\"viewBox=\"0 0 24 24\"\n",
              "       width=\"24px\">\n",
              "    <path d=\"M0 0h24v24H0V0z\" fill=\"none\"/>\n",
              "    <path d=\"M18.56 5.44l.94 2.06.94-2.06 2.06-.94-2.06-.94-.94-2.06-.94 2.06-2.06.94zm-11 1L8.5 8.5l.94-2.06 2.06-.94-2.06-.94L8.5 2.5l-.94 2.06-2.06.94zm10 10l.94 2.06.94-2.06 2.06-.94-2.06-.94-.94-2.06-.94 2.06-2.06.94z\"/><path d=\"M17.41 7.96l-1.37-1.37c-.4-.4-.92-.59-1.43-.59-.52 0-1.04.2-1.43.59L10.3 9.45l-7.72 7.72c-.78.78-.78 2.05 0 2.83L4 21.41c.39.39.9.59 1.41.59.51 0 1.02-.2 1.41-.59l7.78-7.78 2.81-2.81c.8-.78.8-2.07 0-2.86zM5.41 20L4 18.59l7.72-7.72 1.47 1.35L5.41 20z\"/>\n",
              "  </svg>\n",
              "      </button>\n",
              "      \n",
              "  <style>\n",
              "    .colab-df-container {\n",
              "      display:flex;\n",
              "      flex-wrap:wrap;\n",
              "      gap: 12px;\n",
              "    }\n",
              "\n",
              "    .colab-df-convert {\n",
              "      background-color: #E8F0FE;\n",
              "      border: none;\n",
              "      border-radius: 50%;\n",
              "      cursor: pointer;\n",
              "      display: none;\n",
              "      fill: #1967D2;\n",
              "      height: 32px;\n",
              "      padding: 0 0 0 0;\n",
              "      width: 32px;\n",
              "    }\n",
              "\n",
              "    .colab-df-convert:hover {\n",
              "      background-color: #E2EBFA;\n",
              "      box-shadow: 0px 1px 2px rgba(60, 64, 67, 0.3), 0px 1px 3px 1px rgba(60, 64, 67, 0.15);\n",
              "      fill: #174EA6;\n",
              "    }\n",
              "\n",
              "    [theme=dark] .colab-df-convert {\n",
              "      background-color: #3B4455;\n",
              "      fill: #D2E3FC;\n",
              "    }\n",
              "\n",
              "    [theme=dark] .colab-df-convert:hover {\n",
              "      background-color: #434B5C;\n",
              "      box-shadow: 0px 1px 3px 1px rgba(0, 0, 0, 0.15);\n",
              "      filter: drop-shadow(0px 1px 2px rgba(0, 0, 0, 0.3));\n",
              "      fill: #FFFFFF;\n",
              "    }\n",
              "  </style>\n",
              "\n",
              "      <script>\n",
              "        const buttonEl =\n",
              "          document.querySelector('#df-20a3423b-f3fc-4525-afac-155f780e8897 button.colab-df-convert');\n",
              "        buttonEl.style.display =\n",
              "          google.colab.kernel.accessAllowed ? 'block' : 'none';\n",
              "\n",
              "        async function convertToInteractive(key) {\n",
              "          const element = document.querySelector('#df-20a3423b-f3fc-4525-afac-155f780e8897');\n",
              "          const dataTable =\n",
              "            await google.colab.kernel.invokeFunction('convertToInteractive',\n",
              "                                                     [key], {});\n",
              "          if (!dataTable) return;\n",
              "\n",
              "          const docLinkHtml = 'Like what you see? Visit the ' +\n",
              "            '<a target=\"_blank\" href=https://colab.research.google.com/notebooks/data_table.ipynb>data table notebook</a>'\n",
              "            + ' to learn more about interactive tables.';\n",
              "          element.innerHTML = '';\n",
              "          dataTable['output_type'] = 'display_data';\n",
              "          await google.colab.output.renderOutput(dataTable, element);\n",
              "          const docLink = document.createElement('div');\n",
              "          docLink.innerHTML = docLinkHtml;\n",
              "          element.appendChild(docLink);\n",
              "        }\n",
              "      </script>\n",
              "    </div>\n",
              "  </div>\n",
              "  "
            ]
          },
          "metadata": {},
          "execution_count": 2
        }
      ]
    },
    {
      "cell_type": "markdown",
      "source": [
        "Mengeksplorasi kolom pada dataset"
      ],
      "metadata": {
        "id": "So3br-WTpCqo"
      }
    },
    {
      "cell_type": "code",
      "source": [
        "data.columns"
      ],
      "metadata": {
        "colab": {
          "base_uri": "https://localhost:8080/"
        },
        "id": "TjHb1Y4-pDce",
        "outputId": "3399a366-6495-49f9-acde-a6852b9143f4"
      },
      "execution_count": 3,
      "outputs": [
        {
          "output_type": "execute_result",
          "data": {
            "text/plain": [
              "Index(['Postal Code', 'City', 'Region', 'Category', 'Sub-Category', 'Sales',\n",
              "       'Quantity', 'Discount', 'Profit'],\n",
              "      dtype='object')"
            ]
          },
          "metadata": {},
          "execution_count": 3
        }
      ]
    },
    {
      "cell_type": "markdown",
      "source": [
        "Mengeksplorasi kota yang unik di setiap transaksinya"
      ],
      "metadata": {
        "id": "R5sYcK1TpFqr"
      }
    },
    {
      "cell_type": "code",
      "source": [
        "data.City.unique()"
      ],
      "metadata": {
        "colab": {
          "base_uri": "https://localhost:8080/"
        },
        "id": "eUhEnwejpKT5",
        "outputId": "625e3ac0-90b8-4803-9436-3c15dcac019b"
      },
      "execution_count": 4,
      "outputs": [
        {
          "output_type": "execute_result",
          "data": {
            "text/plain": [
              "array(['Henderson', 'Los Angeles', 'Fort Lauderdale', 'Concord',\n",
              "       'Seattle', 'Fort Worth', 'Madison', 'West Jordan', 'San Francisco',\n",
              "       'Fremont', 'Philadelphia', 'Orem', 'Houston', 'Richardson',\n",
              "       'Naperville', 'Melbourne', 'Eagan', 'Westland', 'Dover',\n",
              "       'New Albany', 'New York City', 'Troy', 'Chicago', 'Gilbert',\n",
              "       'Springfield', 'Jackson', 'Memphis', 'Decatur', 'Durham',\n",
              "       'Columbia', 'Rochester', 'Minneapolis', 'Portland', 'Saint Paul',\n",
              "       'Aurora', 'Charlotte', 'Orland Park', 'Urbandale', 'Columbus',\n",
              "       'Bristol', 'Wilmington', 'Bloomington', 'Phoenix', 'Roseville',\n",
              "       'Independence', 'Pasadena', 'Newark', 'Franklin', 'Scottsdale',\n",
              "       'San Jose', 'Edmond', 'Carlsbad', 'San Antonio', 'Monroe',\n",
              "       'Fairfield', 'Grand Prairie', 'Redlands', 'Hamilton', 'Westfield',\n",
              "       'Akron', 'Denver', 'Dallas', 'Whittier', 'Saginaw', 'Medina',\n",
              "       'Dublin', 'Detroit', 'Tampa', 'Santa Clara', 'Lakeville',\n",
              "       'San Diego', 'Brentwood', 'Chapel Hill', 'Morristown',\n",
              "       'Cincinnati', 'Inglewood', 'Tamarac', 'Colorado Springs',\n",
              "       'Belleville'], dtype=object)"
            ]
          },
          "metadata": {},
          "execution_count": 4
        }
      ]
    },
    {
      "cell_type": "markdown",
      "source": [
        "Data cleaning"
      ],
      "metadata": {
        "id": "OBE0n1s5pUTg"
      }
    },
    {
      "cell_type": "code",
      "source": [
        "# Menghapus spasi tambahan pada kategori dan sub-kategori\n",
        "data['Category'] = data['Category'].str.strip()\n",
        "data['Sub-Category'] = data['Sub-Category'].str.strip()\n",
        "  \n",
        "# Menghapus baris yang tidak terdapat nomor invoice\n",
        "data.dropna(axis = 0, subset =['Postal Code'], inplace = True)\n",
        "data['Postal Code'] = data['Postal Code'].astype('str')"
      ],
      "metadata": {
        "id": "6IDgdYhbpU5A"
      },
      "execution_count": 7,
      "outputs": []
    },
    {
      "cell_type": "markdown",
      "source": [
        "Splitting data berdasarkan kota asal transaksi *diambil contoh 4 kota\n",
        "\n"
      ],
      "metadata": {
        "id": "09zMtSB9p8c5"
      }
    },
    {
      "cell_type": "code",
      "source": [
        "# Transaksi yang dilakukan di Los Angeles\n",
        "basket_LA = (data[data['City'] ==\"Los Angeles\"]\n",
        "\t\t.groupby(['Postal Code', 'Category'])['Quantity']\n",
        "\t\t.sum().unstack().reset_index().fillna(0)\n",
        "\t\t.set_index('Postal Code'))\n",
        "\n",
        "# Transaksi yang dilakukan di Fort Lauderdale\n",
        "basket_FL = (data[data['City'] ==\"Fort Lauderdale\"]\n",
        "\t\t.groupby(['Postal Code', 'Category'])['Quantity']\n",
        "\t\t.sum().unstack().reset_index().fillna(0)\n",
        "\t\t.set_index('Postal Code'))\n",
        "\n",
        "# Transaksi yang dilakukan di New York City\n",
        "basket_NYC = (data[data['City'] ==\"New York City\"]\n",
        "\t\t.groupby(['Postal Code', 'Category'])['Quantity']\n",
        "\t\t.sum().unstack().reset_index().fillna(0)\n",
        "\t\t.set_index('Postal Code'))\n",
        "\n",
        "# Transaksi yang dilakukan di San Francisco\n",
        "basket_SF = (data[data['City'] ==\"San Francisco\"]\n",
        "\t\t.groupby(['Postal Code', 'Category'])['Quantity']\n",
        "\t\t.sum().unstack().reset_index().fillna(0)\n",
        "\t\t.set_index('Postal Code'))\n"
      ],
      "metadata": {
        "id": "CaFa2Ibnp9Iz"
      },
      "execution_count": 8,
      "outputs": []
    },
    {
      "cell_type": "markdown",
      "source": [
        "Data encoding"
      ],
      "metadata": {
        "id": "qCk-iOPeqyjq"
      }
    },
    {
      "cell_type": "code",
      "source": [
        "# Membuat hot encode untuk menyesuaikan dengan library yang digunakan\n",
        "def hot_encode(x):\n",
        "\tif(x<= 0):\n",
        "\t\treturn 0\n",
        "\tif(x>= 1):\n",
        "\t\treturn 1\n",
        "\n",
        "# Encoding dataset\n",
        "basket_encoded = basket_LA.applymap(hot_encode)\n",
        "basket_LA = basket_encoded\n",
        "\n",
        "basket_encoded = basket_FL.applymap(hot_encode)\n",
        "basket_FL = basket_encoded\n",
        "\n",
        "basket_encoded = basket_NYC.applymap(hot_encode)\n",
        "basket_NYC = basket_encoded\n",
        "\n",
        "basket_encoded = basket_SF.applymap(hot_encode)\n",
        "basket_SF = basket_encoded"
      ],
      "metadata": {
        "id": "GEOHP2qDqzsB"
      },
      "execution_count": 9,
      "outputs": []
    },
    {
      "cell_type": "markdown",
      "source": [
        "Membuat model dan analisa hasil"
      ],
      "metadata": {
        "id": "1OiS6f7srDyT"
      }
    },
    {
      "cell_type": "markdown",
      "source": [
        "Los Angeles"
      ],
      "metadata": {
        "id": "63TZ90SnrEWt"
      }
    },
    {
      "cell_type": "code",
      "source": [
        "# Bentuk model\n",
        "frq_items = apriori(basket_LA, min_support = 0.05, use_colnames = True)\n",
        "  \n",
        "# Mengumpulkan data pada sebuah dataframe\n",
        "rules = association_rules(frq_items, metric =\"lift\", min_threshold = 1)\n",
        "rules = rules.sort_values(['confidence', 'lift'], ascending =[False, False])\n",
        "print(rules.head())"
      ],
      "metadata": {
        "colab": {
          "base_uri": "https://localhost:8080/"
        },
        "id": "eTH7kzwkrF6l",
        "outputId": "3cf1fbcd-9b36-4f75-d7e8-e16941d9c70c"
      },
      "execution_count": 10,
      "outputs": [
        {
          "output_type": "stream",
          "name": "stdout",
          "text": [
            "                     antecedents                    consequents  \\\n",
            "3                    (Furniture)                   (Technology)   \n",
            "8   (Office Supplies, Furniture)                   (Technology)   \n",
            "11                   (Furniture)  (Office Supplies, Technology)   \n",
            "1                    (Furniture)              (Office Supplies)   \n",
            "4                   (Technology)              (Office Supplies)   \n",
            "\n",
            "    antecedent support  consequent support  support  confidence  lift  \\\n",
            "3                  0.4                 0.8      0.4         1.0  1.25   \n",
            "8                  0.4                 0.8      0.4         1.0  1.25   \n",
            "11                 0.4                 0.8      0.4         1.0  1.25   \n",
            "1                  0.4                 1.0      0.4         1.0  1.00   \n",
            "4                  0.8                 1.0      0.8         1.0  1.00   \n",
            "\n",
            "    leverage  conviction  \n",
            "3       0.08         inf  \n",
            "8       0.08         inf  \n",
            "11      0.08         inf  \n",
            "1       0.00         inf  \n",
            "4       0.00         inf  \n"
          ]
        }
      ]
    },
    {
      "cell_type": "markdown",
      "source": [
        "Fort Lauderdale"
      ],
      "metadata": {
        "id": "4wCPi4BPrhgQ"
      }
    },
    {
      "cell_type": "code",
      "source": [
        "# Bentuk model\n",
        "frq_items = apriori(basket_FL, min_support = 0.05, use_colnames = True)\n",
        "  \n",
        "# Mengumpulkan data pada sebuah dataframe\n",
        "rules = association_rules(frq_items, metric =\"lift\", min_threshold = 1)\n",
        "rules = rules.sort_values(['confidence', 'lift'], ascending =[False, False])\n",
        "print(rules.head())"
      ],
      "metadata": {
        "colab": {
          "base_uri": "https://localhost:8080/"
        },
        "id": "-qrkzD-nrfdd",
        "outputId": "f1bdeb8a-1eae-4569-a687-9d05b86d771b"
      },
      "execution_count": 11,
      "outputs": [
        {
          "output_type": "stream",
          "name": "stdout",
          "text": [
            "         antecedents        consequents  antecedent support  \\\n",
            "0  (Office Supplies)        (Furniture)                 1.0   \n",
            "1        (Furniture)  (Office Supplies)                 1.0   \n",
            "\n",
            "   consequent support  support  confidence  lift  leverage  conviction  \n",
            "0                 1.0      1.0         1.0   1.0       0.0         inf  \n",
            "1                 1.0      1.0         1.0   1.0       0.0         inf  \n"
          ]
        }
      ]
    },
    {
      "cell_type": "markdown",
      "source": [
        "New York City"
      ],
      "metadata": {
        "id": "ZL1QqyUXrsa-"
      }
    },
    {
      "cell_type": "code",
      "source": [
        "# Bentuk model\n",
        "frq_items = apriori(basket_NYC, min_support = 0.05, use_colnames = True)\n",
        "  \n",
        "# Mengumpulkan data pada sebuah dataframe\n",
        "rules = association_rules(frq_items, metric =\"lift\", min_threshold = 1)\n",
        "rules = rules.sort_values(['confidence', 'lift'], ascending =[False, False])\n",
        "print(rules.head())"
      ],
      "metadata": {
        "colab": {
          "base_uri": "https://localhost:8080/"
        },
        "id": "lu41RpeSrqIq",
        "outputId": "e1a0d0e1-19b5-4b6b-fe69-7565849436d2"
      },
      "execution_count": 12,
      "outputs": [
        {
          "output_type": "stream",
          "name": "stdout",
          "text": [
            "               antecedents        consequents  antecedent support  \\\n",
            "1              (Furniture)  (Office Supplies)            0.666667   \n",
            "3              (Furniture)       (Technology)            0.666667   \n",
            "4             (Technology)  (Office Supplies)            1.000000   \n",
            "5        (Office Supplies)       (Technology)            1.000000   \n",
            "7  (Technology, Furniture)  (Office Supplies)            0.666667   \n",
            "\n",
            "   consequent support   support  confidence  lift  leverage  conviction  \n",
            "1                 1.0  0.666667         1.0   1.0       0.0         inf  \n",
            "3                 1.0  0.666667         1.0   1.0       0.0         inf  \n",
            "4                 1.0  1.000000         1.0   1.0       0.0         inf  \n",
            "5                 1.0  1.000000         1.0   1.0       0.0         inf  \n",
            "7                 1.0  0.666667         1.0   1.0       0.0         inf  \n"
          ]
        }
      ]
    },
    {
      "cell_type": "markdown",
      "source": [
        "San Francisco"
      ],
      "metadata": {
        "id": "3-mewwxDr1ev"
      }
    },
    {
      "cell_type": "code",
      "source": [
        "# Bentuk model\n",
        "frq_items = apriori(basket_SF, min_support = 0.05, use_colnames = True)\n",
        "  \n",
        "# Mengumpulkan data pada sebuah dataframe\n",
        "rules = association_rules(frq_items, metric =\"lift\", min_threshold = 1)\n",
        "rules = rules.sort_values(['confidence', 'lift'], ascending =[False, False])\n",
        "print(rules.head())"
      ],
      "metadata": {
        "colab": {
          "base_uri": "https://localhost:8080/"
        },
        "id": "KEqQnnyury67",
        "outputId": "11d9bd0e-1602-4cee-88a2-c991bf3be2c1"
      },
      "execution_count": 13,
      "outputs": [
        {
          "output_type": "stream",
          "name": "stdout",
          "text": [
            "                     antecedents                   consequents  \\\n",
            "2                   (Technology)                   (Furniture)   \n",
            "3                    (Furniture)                  (Technology)   \n",
            "6  (Office Supplies, Technology)                   (Furniture)   \n",
            "8   (Office Supplies, Furniture)                  (Technology)   \n",
            "9                   (Technology)  (Office Supplies, Furniture)   \n",
            "\n",
            "   antecedent support  consequent support   support  confidence  lift  \\\n",
            "2            0.333333            0.333333  0.333333         1.0   3.0   \n",
            "3            0.333333            0.333333  0.333333         1.0   3.0   \n",
            "6            0.333333            0.333333  0.333333         1.0   3.0   \n",
            "8            0.333333            0.333333  0.333333         1.0   3.0   \n",
            "9            0.333333            0.333333  0.333333         1.0   3.0   \n",
            "\n",
            "   leverage  conviction  \n",
            "2  0.222222         inf  \n",
            "3  0.222222         inf  \n",
            "6  0.222222         inf  \n",
            "8  0.222222         inf  \n",
            "9  0.222222         inf  \n"
          ]
        }
      ]
    },
    {
      "cell_type": "markdown",
      "source": [],
      "metadata": {
        "id": "vZYSOjIKr6TR"
      }
    },
    {
      "cell_type": "markdown",
      "source": [
        "Setelah menganalisis keempat contoh model diatas, dapat disimpulkan bahwa pada keempat kota diatas, jenis barang yang sering dibeli adalah kebutuhan kantor, furnitur, dan teknologi"
      ],
      "metadata": {
        "id": "bevW1-17sBsW"
      }
    }
  ]
}